{
  "nbformat": 4,
  "nbformat_minor": 0,
  "metadata": {
    "colab": {
      "provenance": []
    },
    "kernelspec": {
      "name": "python3",
      "display_name": "Python 3"
    },
    "language_info": {
      "name": "python"
    }
  },
  "cells": [
    {
      "cell_type": "markdown",
      "source": [
        "# Supervised Learning and Linear Methods.\n",
        "## Instructions and Requirements:\n",
        "This week workshop will have three sections:\n",
        "*   Section-1: Simple Linear Regression with Analytic Approach. \n",
        "    *   Objectives:\n",
        "         *   In this section we will implement ordinary least square methods to build a Simple Linear Regression Model.\n",
        "  *   Datasets:\n",
        "        *   \"headbrain.csv\"\n",
        "    *   Learning outcomes:\n",
        "      *   Understand what is Simple Linear Regression.\n",
        "      *   Use Python with Numpy to build basic Simple Linear Regression model with OLS.\n",
        "\n",
        "*   Section-2: Multiple Linear Regression with Machine Learning Approach.\n",
        "  *   Objectives:\n",
        "      *   Understand the steps included in building Machine Learning Models.\n",
        "  *   Datasets:\n",
        "      *   \"performance.csv\".\n",
        "  *   Learning Outcomes:\n",
        "      *   Get familiar with various steps in building Machine Learning Model.\n",
        "      *   Implement and build Multiple Linear Regression from Scratch with python and Numpy.\n",
        "*   Section-3: Introduction to SKLEARN.\n",
        "  *   Objectives:\n",
        "      *   Introduction of SKLEARN, a machine learning model building library.\n",
        "  *   Learning Outcomes:\n",
        "      *   Ger familiar with SKLEARN library.\n",
        "      \n",
        "## Requirements:\n",
        "Notebook Environment(Jupyter or Google Colab)\n",
        "\n",
        "*   Author: Siman Giri\n"
      ],
      "metadata": {
        "id": "DceHorhnGtZL"
      }
    },
    {
      "cell_type": "markdown",
      "source": [
        "# Regression Algorithm.\n",
        "___\n",
        "\n",
        "The task of the Regression Algorithm is to find the $\\color{purple}{maping}$ function black to map the $\\color{black}{input}$ variable $\\textbf{(X)}$ to the continious output variable$\\textbf{(Y)}$.\n",
        "\n",
        "Regression analysis estimates the realtionship between a dependent variables and independent variables.\n",
        "In the class we talked about two different approach\n",
        "\n",
        "1.   Analytical Approach i.e Ordinary Least Square Methods\n",
        "2.   Machine Learning Approach i.e Using Gradient Descent\n",
        "In this exercise you are expected to implement both the methods from scratch.\n"
      ],
      "metadata": {
        "id": "C2Gcxb-EMOrN"
      }
    },
    {
      "cell_type": "markdown",
      "source": [
        "# Section-1: Simple Linear Regression with Analytical Approach.\n"
      ],
      "metadata": {
        "id": "5vRFNLaqPVh3"
      }
    },
    {
      "cell_type": "markdown",
      "source": [
        "## Ordinary Least Square Implementation from scratch\n",
        "As per the Lectures, we can define the linear relationships between two variables as follows:\n",
        "\\begin{align}\n",
        "        \\mathbf{y} = b _0 + b_1x\n",
        "    \\end{align}\n",
        "\n",
        "Here:\n",
        "$\\theta _1$ is called scale factor or $\\textbf{coefficient/slope}$ and can be calculated as:\n",
        "\\begin{align}\n",
        "        \\mathbf{b _1} = \\frac{\\sum_{i=0}^n(x_i-\\bar{x}))(y_i-\\bar{y}) }{\\sum_{i=1}^n(x_i-\\bar{x})}.\n",
        "    \\end{align}\n",
        "$\\theta_o$ is an $\\textbf{intercept}$ and calculated as:\n",
        "\\begin{align}\n",
        "        \\mathbf{b_0} = \\bar{y} - b_1\\bar{x}\n",
        "    \\end{align}\n",
        "\n",
        "Implementation:\n",
        "\n",
        "Start with Necessary Imports:"
      ],
      "metadata": {
        "id": "M-sVxmCDPxzO"
      }
    },
    {
      "cell_type": "code",
      "execution_count": 3,
      "metadata": {
        "id": "n1fruTMQFna6"
      },
      "outputs": [],
      "source": [
        "path1 = \"/content/drive/MyDrive/concepts_of_ai/headbrain.csv\""
      ]
    },
    {
      "cell_type": "code",
      "source": [
        "# Necessary imports:\n",
        "import numpy as np\n",
        "import pandas as pd\n",
        "import matplotlib.pyplot as plt\n",
        "plt.rcParams['figure.figsize'] = (10.0, 10.0)\n"
      ],
      "metadata": {
        "id": "cCevz1o8MKVY"
      },
      "execution_count": 9,
      "outputs": []
    },
    {
      "cell_type": "code",
      "source": [
        "from google.colab import drive\n",
        "drive.mount('/content/drive')"
      ],
      "metadata": {
        "colab": {
          "base_uri": "https://localhost:8080/"
        },
        "id": "FrL1GP4UNs6C",
        "outputId": "12d1fea6-3a86-4d4b-9d21-98aa19056288"
      },
      "execution_count": 2,
      "outputs": [
        {
          "output_type": "stream",
          "name": "stdout",
          "text": [
            "Mounted at /content/drive\n"
          ]
        }
      ]
    },
    {
      "cell_type": "markdown",
      "source": [
        "## STEP-1: Define Decision Process.\n",
        "\n",
        "*   Objective of the Task:\n",
        "  *   To Predict the weight of brain from given datasets.\n",
        "*   Tasks to Do:\n",
        "  1.   Read and Observe the Dataset.\n",
        "  2.   Print top(5) and bottom(5) of the dataset {Hint: pd.head and pd.tail}.\n",
        "  3.   Print the Information of Datasets.\n",
        "  3.   Identify $\\color{red}{\\textbf{Dependent}}$ $\\color{red}{\\textbf{Variable}}$ and $\\color{red}{\\textbf{Independent}}$ $\\color{red}{\\textbf{Variable}}$.\n",
        "            *   {Hint: $\\textbf{Variables}$ depends on the $\\textbf{Objective}$ of the task.}\n",
        "  1.   Split the data into Independent and Dependent Arrays { Hint: Split and Convert pandas dataframe to numpy arrays-You can use df.to_numpy()}.\n",
        "  6.   Find the mean of Dependent $\\textbf{(X)}$ and Independent $\\textbf{(Y)}$ Varaible.\n",
        "  "
      ],
      "metadata": {
        "id": "K2pAxMVmSMbI"
      }
    },
    {
      "cell_type": "code",
      "source": [
        "# Your Code To read Datasets.\n",
        "data=pd.read_csv(path1)\n",
        "print(data.shape)\n",
        "data.head()"
      ],
      "metadata": {
        "colab": {
          "base_uri": "https://localhost:8080/",
          "height": 223
        },
        "id": "Ny6xoBHQQ_ld",
        "outputId": "7da9f7d5-332a-4014-d9f0-9d35c9904c0d"
      },
      "execution_count": 4,
      "outputs": [
        {
          "output_type": "stream",
          "name": "stdout",
          "text": [
            "(237, 2)\n"
          ]
        },
        {
          "output_type": "execute_result",
          "data": {
            "text/plain": [
              "   Head Size(cm^3)  Brain Weight(grams)\n",
              "0             4512                 1530\n",
              "1             3738                 1297\n",
              "2             4261                 1335\n",
              "3             3777                 1282\n",
              "4             4177                 1590"
            ],
            "text/html": [
              "\n",
              "  <div id=\"df-b7ae1111-3a32-4b9f-810b-896e16318529\">\n",
              "    <div class=\"colab-df-container\">\n",
              "      <div>\n",
              "<style scoped>\n",
              "    .dataframe tbody tr th:only-of-type {\n",
              "        vertical-align: middle;\n",
              "    }\n",
              "\n",
              "    .dataframe tbody tr th {\n",
              "        vertical-align: top;\n",
              "    }\n",
              "\n",
              "    .dataframe thead th {\n",
              "        text-align: right;\n",
              "    }\n",
              "</style>\n",
              "<table border=\"1\" class=\"dataframe\">\n",
              "  <thead>\n",
              "    <tr style=\"text-align: right;\">\n",
              "      <th></th>\n",
              "      <th>Head Size(cm^3)</th>\n",
              "      <th>Brain Weight(grams)</th>\n",
              "    </tr>\n",
              "  </thead>\n",
              "  <tbody>\n",
              "    <tr>\n",
              "      <th>0</th>\n",
              "      <td>4512</td>\n",
              "      <td>1530</td>\n",
              "    </tr>\n",
              "    <tr>\n",
              "      <th>1</th>\n",
              "      <td>3738</td>\n",
              "      <td>1297</td>\n",
              "    </tr>\n",
              "    <tr>\n",
              "      <th>2</th>\n",
              "      <td>4261</td>\n",
              "      <td>1335</td>\n",
              "    </tr>\n",
              "    <tr>\n",
              "      <th>3</th>\n",
              "      <td>3777</td>\n",
              "      <td>1282</td>\n",
              "    </tr>\n",
              "    <tr>\n",
              "      <th>4</th>\n",
              "      <td>4177</td>\n",
              "      <td>1590</td>\n",
              "    </tr>\n",
              "  </tbody>\n",
              "</table>\n",
              "</div>\n",
              "      <button class=\"colab-df-convert\" onclick=\"convertToInteractive('df-b7ae1111-3a32-4b9f-810b-896e16318529')\"\n",
              "              title=\"Convert this dataframe to an interactive table.\"\n",
              "              style=\"display:none;\">\n",
              "        \n",
              "  <svg xmlns=\"http://www.w3.org/2000/svg\" height=\"24px\"viewBox=\"0 0 24 24\"\n",
              "       width=\"24px\">\n",
              "    <path d=\"M0 0h24v24H0V0z\" fill=\"none\"/>\n",
              "    <path d=\"M18.56 5.44l.94 2.06.94-2.06 2.06-.94-2.06-.94-.94-2.06-.94 2.06-2.06.94zm-11 1L8.5 8.5l.94-2.06 2.06-.94-2.06-.94L8.5 2.5l-.94 2.06-2.06.94zm10 10l.94 2.06.94-2.06 2.06-.94-2.06-.94-.94-2.06-.94 2.06-2.06.94z\"/><path d=\"M17.41 7.96l-1.37-1.37c-.4-.4-.92-.59-1.43-.59-.52 0-1.04.2-1.43.59L10.3 9.45l-7.72 7.72c-.78.78-.78 2.05 0 2.83L4 21.41c.39.39.9.59 1.41.59.51 0 1.02-.2 1.41-.59l7.78-7.78 2.81-2.81c.8-.78.8-2.07 0-2.86zM5.41 20L4 18.59l7.72-7.72 1.47 1.35L5.41 20z\"/>\n",
              "  </svg>\n",
              "      </button>\n",
              "      \n",
              "  <style>\n",
              "    .colab-df-container {\n",
              "      display:flex;\n",
              "      flex-wrap:wrap;\n",
              "      gap: 12px;\n",
              "    }\n",
              "\n",
              "    .colab-df-convert {\n",
              "      background-color: #E8F0FE;\n",
              "      border: none;\n",
              "      border-radius: 50%;\n",
              "      cursor: pointer;\n",
              "      display: none;\n",
              "      fill: #1967D2;\n",
              "      height: 32px;\n",
              "      padding: 0 0 0 0;\n",
              "      width: 32px;\n",
              "    }\n",
              "\n",
              "    .colab-df-convert:hover {\n",
              "      background-color: #E2EBFA;\n",
              "      box-shadow: 0px 1px 2px rgba(60, 64, 67, 0.3), 0px 1px 3px 1px rgba(60, 64, 67, 0.15);\n",
              "      fill: #174EA6;\n",
              "    }\n",
              "\n",
              "    [theme=dark] .colab-df-convert {\n",
              "      background-color: #3B4455;\n",
              "      fill: #D2E3FC;\n",
              "    }\n",
              "\n",
              "    [theme=dark] .colab-df-convert:hover {\n",
              "      background-color: #434B5C;\n",
              "      box-shadow: 0px 1px 3px 1px rgba(0, 0, 0, 0.15);\n",
              "      filter: drop-shadow(0px 1px 2px rgba(0, 0, 0, 0.3));\n",
              "      fill: #FFFFFF;\n",
              "    }\n",
              "  </style>\n",
              "\n",
              "      <script>\n",
              "        const buttonEl =\n",
              "          document.querySelector('#df-b7ae1111-3a32-4b9f-810b-896e16318529 button.colab-df-convert');\n",
              "        buttonEl.style.display =\n",
              "          google.colab.kernel.accessAllowed ? 'block' : 'none';\n",
              "\n",
              "        async function convertToInteractive(key) {\n",
              "          const element = document.querySelector('#df-b7ae1111-3a32-4b9f-810b-896e16318529');\n",
              "          const dataTable =\n",
              "            await google.colab.kernel.invokeFunction('convertToInteractive',\n",
              "                                                     [key], {});\n",
              "          if (!dataTable) return;\n",
              "\n",
              "          const docLinkHtml = 'Like what you see? Visit the ' +\n",
              "            '<a target=\"_blank\" href=https://colab.research.google.com/notebooks/data_table.ipynb>data table notebook</a>'\n",
              "            + ' to learn more about interactive tables.';\n",
              "          element.innerHTML = '';\n",
              "          dataTable['output_type'] = 'display_data';\n",
              "          await google.colab.output.renderOutput(dataTable, element);\n",
              "          const docLink = document.createElement('div');\n",
              "          docLink.innerHTML = docLinkHtml;\n",
              "          element.appendChild(docLink);\n",
              "        }\n",
              "      </script>\n",
              "    </div>\n",
              "  </div>\n",
              "  "
            ]
          },
          "metadata": {},
          "execution_count": 4
        }
      ]
    },
    {
      "cell_type": "code",
      "source": [
        "# Your Code To convert to array.\n",
        "# Store in the varaible name X: for idependent adn Y for dependent.\n",
        "X=data['Head Size(cm^3)'].to_numpy()\n",
        "Y=data['Brain Weight(grams)'].to_numpy()\n",
        "# Mean of X and Y\n",
        "mean_x=np.mean(X)\n",
        "mean_y=np.mean(Y)\n",
        "print(mean_x,mean_y)\n",
        "\n"
      ],
      "metadata": {
        "colab": {
          "base_uri": "https://localhost:8080/"
        },
        "id": "CL5J2Z0hW4Gf",
        "outputId": "bf3bf84d-dfb6-4d1d-bd82-d6dbb9a8dcaf"
      },
      "execution_count": 15,
      "outputs": [
        {
          "output_type": "stream",
          "name": "stdout",
          "text": [
            "3633.9915611814345 1282.873417721519\n"
          ]
        }
      ]
    },
    {
      "cell_type": "code",
      "source": [
        "# Sanity Check\n",
        "if X.shape == Y.shape:\n",
        "  print(\"Proceed Further\")\n",
        "else:\n",
        "  print(\"Array Conversion Error: Try Again\")\n",
        "  \n"
      ],
      "metadata": {
        "colab": {
          "base_uri": "https://localhost:8080/"
        },
        "id": "WDdpw3x1wLXY",
        "outputId": "589ff324-4a37-4155-fbb7-1746bd4595e1"
      },
      "execution_count": 16,
      "outputs": [
        {
          "output_type": "stream",
          "name": "stdout",
          "text": [
            "Proceed Further\n"
          ]
        }
      ]
    },
    {
      "cell_type": "markdown",
      "source": [
        "## Step-2: Calculate $b_0$ and $b_1$ :\n",
        "using the given formula:\n",
        "\\begin{align}\n",
        "        \\mathbf{b _1} = \\frac{\\sum_{i=0}^n(x_i-\\bar{x})(y_i-\\bar{y}) }{\\sum_{i=1}^n(x_i-\\bar{x})}.\n",
        "    \\end{align}\n",
        "$b_0$ is an intercept and calculated as:\n",
        "\\begin{align}\n",
        "        \\mathbf{b_0} = \\bar{y} - b_1 \\bar{x}\n",
        "    \\end{align}\n"
      ],
      "metadata": {
        "id": "g5nWBNB2zj6i"
      }
    },
    {
      "cell_type": "code",
      "source": [
        "def calculate_parameters(x, y):\n",
        "  \"\"\"\n",
        "  Arguments:\n",
        "  This function calculates parameters b0 and b1.\n",
        "  Input parameters:\n",
        "    x: Array of Independent Varaibles.\n",
        "    y: Array of Dependent Varaibles.\n",
        "  Output:\n",
        "    b0 and b1\n",
        "  \"\"\"\n",
        "  n = len(x)\n",
        "  mean_x = np.mean(x)\n",
        "  mean_y = np.mean(y)\n",
        "  numer = 0\n",
        "  denom = 0\n",
        "  for i in range(n):\n",
        "    numer += (x[i]-mean_x)*(y[i]-mean_y)\n",
        "    denom += (x[i]-mean_x)**2\n",
        "  b1 = numer/denom\n",
        "  b0 = mean_y - (b1*mean_x)\n",
        "  return b1, b0\n",
        "\n"
      ],
      "metadata": {
        "id": "B9igkurNzd5z"
      },
      "execution_count": 17,
      "outputs": []
    },
    {
      "cell_type": "code",
      "source": [
        "b1, b0 = calculate_parameters(X,Y)\n",
        "print(b1, b0)"
      ],
      "metadata": {
        "colab": {
          "base_uri": "https://localhost:8080/"
        },
        "id": "bo70wRSp3Pix",
        "outputId": "3c045a39-cc7d-45a9-9b2d-e96434416816"
      },
      "execution_count": 18,
      "outputs": [
        {
          "output_type": "stream",
          "name": "stdout",
          "text": [
            "0.26342933948939945 325.57342104944223\n"
          ]
        }
      ]
    },
    {
      "cell_type": "markdown",
      "source": [
        "## Step-3: Make a Prediction.\n",
        "\n",
        "In this section, we will use $b_1$ and $b_0$ calculated from step-2 to make a prediction.\n"
      ],
      "metadata": {
        "id": "Gd_B2B045VXs"
      }
    },
    {
      "cell_type": "code",
      "source": [
        "# Let's create a dummy input data:\n",
        "max_x = np.max(X) + 100\n",
        "min_x = np.min(X) - 100\n",
        "x_dummy = np.linspace(min_x, max_x, 100)\n",
        "x_dummy.shape"
      ],
      "metadata": {
        "colab": {
          "base_uri": "https://localhost:8080/"
        },
        "id": "vhM0NtIp3jq2",
        "outputId": "f138ac71-9286-456c-cf2c-15954d661bef"
      },
      "execution_count": 19,
      "outputs": [
        {
          "output_type": "execute_result",
          "data": {
            "text/plain": [
              "(100,)"
            ]
          },
          "metadata": {},
          "execution_count": 19
        }
      ]
    },
    {
      "cell_type": "code",
      "source": [
        "# Let's Make some Predictions:\n",
        "y_pred = b0+b1*x_dummy"
      ],
      "metadata": {
        "id": "-IVK8Wpi6HCZ"
      },
      "execution_count": 20,
      "outputs": []
    },
    {
      "cell_type": "code",
      "source": [
        "# Sanity Check\n",
        "if x_dummy.shape == y_pred.shape:\n",
        "  print(\"Proceed Further\")\n",
        "else:\n",
        "  print(\"Prediction may not be correct: Try Again\")\n",
        "  "
      ],
      "metadata": {
        "colab": {
          "base_uri": "https://localhost:8080/"
        },
        "id": "ckQ-sa6Z6nMH",
        "outputId": "4920f79b-df78-41fd-d4c7-dd74b1568ee7"
      },
      "execution_count": 21,
      "outputs": [
        {
          "output_type": "stream",
          "name": "stdout",
          "text": [
            "Proceed Further\n"
          ]
        }
      ]
    },
    {
      "cell_type": "markdown",
      "source": [
        "## Step-4: Evaluate a Model.\n",
        "\n",
        "In this section, we will use $b_1$ and $b_0$ calculated from step-2 to make a prediction.\n",
        "\n",
        "Lets see How Good is our model. As discussed in the lecture and Tutorial we will use Root Mean Squared Error and Coefficient of Determination( R2 )\n",
        "Mathematically:\n",
        "\\begin{align}\n",
        "        \\mathbf{RMSE}  = \\sqrt{\\sum_{i=1}^n (1/m (\\hat{y_i} - y_i)^2)}\n",
        "    \\end{align}\n",
        "\n",
        "\\begin{align}\n",
        "        \\mathbf{R^2}  = 1 - \\frac{SSR}{SST}\n",
        "    \\end{align}\n",
        "\n",
        "\\begin{align}\n",
        "         \\mathbf{SST} = \\sum_{i=1}^n (y_i - \\bar{y})^2\n",
        "    \\end{align}\n",
        "\\begin{align}\n",
        "         \\mathbf{SSR} = \\sum_{i=1}^n (y_i - \\hat{y_i})^2\n",
        "    \\end{align}"
      ],
      "metadata": {
        "id": "kH1Zly2y7ipu"
      }
    },
    {
      "cell_type": "code",
      "source": [
        "def root_mean_square(x, y, b0, b1):\n",
        "  \"\"\"\n",
        "  This Function calculates the Root Mean Squres.\n",
        "  Input Arguments:\n",
        "    x: Array of Independent Varaibles.\n",
        "    y: Array of Dependent Varaibles.\n",
        "    b0: Parameters.\n",
        "    b1: Parameters.\n",
        "  Output Arguments:\n",
        "    rmse: Root Mean Square.\n",
        "  \"\"\"\n",
        "  m = len(x)\n",
        "  rmse = 0\n",
        "  for i in range(m):\n",
        "    y_pred = b0 + b1 *x[i]\n",
        "    rmse += (y[i]-y_pred)**2\n",
        "  rmse = np.sqrt(rmse/m)\n",
        "  return rmse\n",
        "\n"
      ],
      "metadata": {
        "id": "1SyUlV8N6-Um"
      },
      "execution_count": 22,
      "outputs": []
    },
    {
      "cell_type": "code",
      "source": [
        "rmse = root_mean_square(X,Y,b0,b1)\n",
        "rmse"
      ],
      "metadata": {
        "colab": {
          "base_uri": "https://localhost:8080/"
        },
        "id": "_0U1H_-U-nMp",
        "outputId": "37565806-b68b-481b-c41f-0f77011ad912"
      },
      "execution_count": 23,
      "outputs": [
        {
          "output_type": "execute_result",
          "data": {
            "text/plain": [
              "72.1206213783709"
            ]
          },
          "metadata": {},
          "execution_count": 23
        }
      ]
    },
    {
      "cell_type": "code",
      "source": [
        "def r_squared(x, y, b0, b1):\n",
        "  \"\"\"\n",
        "   This Function calculates the R Squared Error.\n",
        "  Input Arguments:\n",
        "    x: Array of Independent Varaibles.\n",
        "    y: Array of Dependent Varaibles.\n",
        "    b0: Parameters.\n",
        "    b1: Parameters.\n",
        "  Output Arguments:\n",
        "    rsquared: R Squared Error.\n",
        "    \"\"\"\n",
        "  sst = 0\n",
        "  ssr = 0\n",
        "  n = len(x)\n",
        "  for i in range(n):\n",
        "    y_pred = b0 + b1 * x[i]\n",
        "    sst += (y[i]-np.mean(y))**2\n",
        "    ssr += (y[i]-y_pred)**x\n",
        "    rsquared = 1 - (ssr/sst)\n",
        "  return rsquared\n"
      ],
      "metadata": {
        "id": "Re_hxSfs-wmY"
      },
      "execution_count": 24,
      "outputs": []
    },
    {
      "cell_type": "code",
      "source": [
        "r2 = r_squared(X,Y, b0, b1)\n",
        "r2"
      ],
      "metadata": {
        "colab": {
          "base_uri": "https://localhost:8080/"
        },
        "id": "aTO1fAXHBvFh",
        "outputId": "a2b4a4c3-1562-4773-97fa-bcd8dbe8bb2b"
      },
      "execution_count": null,
      "outputs": [
        {
          "output_type": "execute_result",
          "data": {
            "text/plain": [
              "0.6393117199570003"
            ]
          },
          "metadata": {},
          "execution_count": 30
        }
      ]
    },
    {
      "cell_type": "markdown",
      "source": [
        "## Visualize the Model.\n"
      ],
      "metadata": {
        "id": "UJ_iIROdB-cs"
      }
    },
    {
      "cell_type": "code",
      "source": [
        "#Y = b0 + b1*X # Equation of Straight Line.\n",
        "y_pred = b0 + b1*x_dummy\n",
        "# Ploting Line\n",
        "plt.plot(x_dummy, y_pred, color='#58b970', label='Regression Line')\n",
        "# Ploting Scatter Points\n",
        "plt.scatter(X, Y, c='#ef5423', label='Scatter Plot')\n",
        "\n",
        "plt.xlabel('Head Size in cm3')\n",
        "plt.ylabel('Brain Weight in grams')\n",
        "plt.legend()\n",
        "plt.show()"
      ],
      "metadata": {
        "colab": {
          "base_uri": "https://localhost:8080/",
          "height": 606
        },
        "id": "WUdNlt_CB3l4",
        "outputId": "4c1773f1-c5f2-46dc-c2a5-cec7ee409ce5"
      },
      "execution_count": 25,
      "outputs": [
        {
          "output_type": "display_data",
          "data": {
            "text/plain": [
              "<Figure size 720x720 with 1 Axes>"
            ],
            "image/png": "[encoded data removed]"
          },
          "metadata": {
            "needs_background": "light"
          }
        }
      ]
    },
    {
      "cell_type": "markdown",
      "source": [
        "# Section-2: Multiple Linear Regression With Machine Learning Approach.\n"
      ],
      "metadata": {
        "id": "si4xFjkzDn6V"
      }
    },
    {
      "cell_type": "markdown",
      "source": [
        "##Implement Multiple Linear Regression with Gradient Descent From scratch.\n",
        "\n",
        "Multiple Linear Regression is a type of Linear Regression when the input has multiple features ((variables)).Similar to Simple Linear Regression, we have input variable(X) and output variable(Y). But the input variable has nn features. Therefore, we can represent this linear model as follows;\n",
        "\\begin{align}\n",
        "        \\mathbf{Y} = \\theta_o + \\theta_1x_1 + \\theta_2x_2 + .....+ \\theta_nx_n\n",
        "    \\end{align}\n",
        "Rewriting the equation:where $x_0 = 1$:\n",
        "\\begin{align}\n",
        "        \\mathbf{Y} = \\theta_ox_0 + \\theta_1x_1 + \\theta_2x_2 + .....+ \\theta_nx_n\n",
        "    \\end{align}\n",
        "Convert the equation to matrix:\n",
        "\\begin{align}\n",
        "        \\mathbf{Y} = \\theta^T X + \\theta_0\n",
        "    \\end{align}\n",
        "where:\n",
        "\\begin{align}\n",
        "        \\mathbf{\\theta} = [\\theta_o, \\theta_1, ...., \\theta_n]^T\n",
        "    \\end{align}\n",
        "\\begin{align}\n",
        "        \\mathbf{X} = [x_o, x_1, ...., x_n]^T\n",
        "    \\end{align}\n",
        "\n",
        "Our function can now be defined as:\n",
        "\\begin{align}\n",
        "        \\mathbf{h_\\theta(.)}  = \\theta^T x\n",
        "    \\end{align}\n",
        "And the cost function will be:\n",
        "\\begin{align}\n",
        "        \\mathbf{J(\\theta)}  = \\frac{1}{2n} \\sum_{i=1}^n(h_\\theta(x_i) - y_i)^2\n",
        "    \\end{align}\n",
        "\n",
        "Implementation:\n",
        "\n",
        "Start with Necessary Imports:\n"
      ],
      "metadata": {
        "id": "zeujUqB1Etrt"
      }
    },
    {
      "cell_type": "code",
      "source": [
        "path2 = \"/content/drive/MyDrive/concepts_of_ai/performance.csv\"\n"
      ],
      "metadata": {
        "id": "oUJ5Mcr8DrPX"
      },
      "execution_count": 26,
      "outputs": []
    },
    {
      "cell_type": "code",
      "source": [
        "# Necessary imports:\n",
        "import numpy as np\n",
        "import pandas as pd\n",
        "import matplotlib.pyplot as plt\n",
        "plt.rcParams['figure.figsize'] = (10.0, 10.0)"
      ],
      "metadata": {
        "id": "cymxmx0SFitX"
      },
      "execution_count": null,
      "outputs": []
    },
    {
      "cell_type": "markdown",
      "source": [
        "## STEP-1: Define Decision Process.\n",
        "\n",
        "*   Objective of the Task:\n",
        "  *   To Predict the marks obtained in writing based on the marks of Math and Reading.\n",
        "*   Tasks to Do:\n",
        "  1.   Read and Observe the Dataset.\n",
        "  2.   Print top(5) and bottom(5) of the dataset {Hint: pd.head and pd.tail}.\n",
        "  3.   Print the Information of Datasets.\n",
        "  3.   Identify $\\color{red}{\\textbf{Dependent}}$ $\\color{red}{\\textbf{Variable}}$ and $\\color{red}{\\textbf{Independent}}$ $\\color{red}{\\textbf{Variable}}$.\n",
        "            *   {Hint: $\\textbf{Variables}$ depends on the $\\textbf{Objective}$ of the task.}\n",
        "  1.   Split the data into Independent and Dependent Arrays { Hint: Split and Convert pandas dataframe to numpy arrays-You can use df.to_numpy()}.\n",
        "  6. Visualize the dataset, Visualizing multi-variate dataset is not easy, In this particular case we can use special 3-D plot, Please go through the code."
      ],
      "metadata": {
        "id": "cC4HPAgHGebF"
      }
    },
    {
      "cell_type": "code",
      "source": [
        "# Your code to read data and Converting to arrays here:\n",
        "# store the array with name, math, read, adn write\n",
        "# Your Code To read Datasets.\n",
        "data=pd.read_csv(path2)\n",
        "print(data.shape)\n",
        "data.head()\n"
      ],
      "metadata": {
        "colab": {
          "base_uri": "https://localhost:8080/",
          "height": 223
        },
        "id": "mR394XnFGZSK",
        "outputId": "ccbcfa60-eeb1-4645-fa90-e4b8698f851f"
      },
      "execution_count": 31,
      "outputs": [
        {
          "output_type": "stream",
          "name": "stdout",
          "text": [
            "(1000, 3)\n"
          ]
        },
        {
          "output_type": "execute_result",
          "data": {
            "text/plain": [
              "   Math  Reading  Writing\n",
              "0    48       68       63\n",
              "1    62       81       72\n",
              "2    79       80       78\n",
              "3    76       83       79\n",
              "4    59       64       62"
            ],
            "text/html": [
              "\n",
              "  <div id=\"df-87956e09-3d48-423b-953d-b4dcd72304bc\">\n",
              "    <div class=\"colab-df-container\">\n",
              "      <div>\n",
              "<style scoped>\n",
              "    .dataframe tbody tr th:only-of-type {\n",
              "        vertical-align: middle;\n",
              "    }\n",
              "\n",
              "    .dataframe tbody tr th {\n",
              "        vertical-align: top;\n",
              "    }\n",
              "\n",
              "    .dataframe thead th {\n",
              "        text-align: right;\n",
              "    }\n",
              "</style>\n",
              "<table border=\"1\" class=\"dataframe\">\n",
              "  <thead>\n",
              "    <tr style=\"text-align: right;\">\n",
              "      <th></th>\n",
              "      <th>Math</th>\n",
              "      <th>Reading</th>\n",
              "      <th>Writing</th>\n",
              "    </tr>\n",
              "  </thead>\n",
              "  <tbody>\n",
              "    <tr>\n",
              "      <th>0</th>\n",
              "      <td>48</td>\n",
              "      <td>68</td>\n",
              "      <td>63</td>\n",
              "    </tr>\n",
              "    <tr>\n",
              "      <th>1</th>\n",
              "      <td>62</td>\n",
              "      <td>81</td>\n",
              "      <td>72</td>\n",
              "    </tr>\n",
              "    <tr>\n",
              "      <th>2</th>\n",
              "      <td>79</td>\n",
              "      <td>80</td>\n",
              "      <td>78</td>\n",
              "    </tr>\n",
              "    <tr>\n",
              "      <th>3</th>\n",
              "      <td>76</td>\n",
              "      <td>83</td>\n",
              "      <td>79</td>\n",
              "    </tr>\n",
              "    <tr>\n",
              "      <th>4</th>\n",
              "      <td>59</td>\n",
              "      <td>64</td>\n",
              "      <td>62</td>\n",
              "    </tr>\n",
              "  </tbody>\n",
              "</table>\n",
              "</div>\n",
              "      <button class=\"colab-df-convert\" onclick=\"convertToInteractive('df-87956e09-3d48-423b-953d-b4dcd72304bc')\"\n",
              "              title=\"Convert this dataframe to an interactive table.\"\n",
              "              style=\"display:none;\">\n",
              "        \n",
              "  <svg xmlns=\"http://www.w3.org/2000/svg\" height=\"24px\"viewBox=\"0 0 24 24\"\n",
              "       width=\"24px\">\n",
              "    <path d=\"M0 0h24v24H0V0z\" fill=\"none\"/>\n",
              "    <path d=\"M18.56 5.44l.94 2.06.94-2.06 2.06-.94-2.06-.94-.94-2.06-.94 2.06-2.06.94zm-11 1L8.5 8.5l.94-2.06 2.06-.94-2.06-.94L8.5 2.5l-.94 2.06-2.06.94zm10 10l.94 2.06.94-2.06 2.06-.94-2.06-.94-.94-2.06-.94 2.06-2.06.94z\"/><path d=\"M17.41 7.96l-1.37-1.37c-.4-.4-.92-.59-1.43-.59-.52 0-1.04.2-1.43.59L10.3 9.45l-7.72 7.72c-.78.78-.78 2.05 0 2.83L4 21.41c.39.39.9.59 1.41.59.51 0 1.02-.2 1.41-.59l7.78-7.78 2.81-2.81c.8-.78.8-2.07 0-2.86zM5.41 20L4 18.59l7.72-7.72 1.47 1.35L5.41 20z\"/>\n",
              "  </svg>\n",
              "      </button>\n",
              "      \n",
              "  <style>\n",
              "    .colab-df-container {\n",
              "      display:flex;\n",
              "      flex-wrap:wrap;\n",
              "      gap: 12px;\n",
              "    }\n",
              "\n",
              "    .colab-df-convert {\n",
              "      background-color: #E8F0FE;\n",
              "      border: none;\n",
              "      border-radius: 50%;\n",
              "      cursor: pointer;\n",
              "      display: none;\n",
              "      fill: #1967D2;\n",
              "      height: 32px;\n",
              "      padding: 0 0 0 0;\n",
              "      width: 32px;\n",
              "    }\n",
              "\n",
              "    .colab-df-convert:hover {\n",
              "      background-color: #E2EBFA;\n",
              "      box-shadow: 0px 1px 2px rgba(60, 64, 67, 0.3), 0px 1px 3px 1px rgba(60, 64, 67, 0.15);\n",
              "      fill: #174EA6;\n",
              "    }\n",
              "\n",
              "    [theme=dark] .colab-df-convert {\n",
              "      background-color: #3B4455;\n",
              "      fill: #D2E3FC;\n",
              "    }\n",
              "\n",
              "    [theme=dark] .colab-df-convert:hover {\n",
              "      background-color: #434B5C;\n",
              "      box-shadow: 0px 1px 3px 1px rgba(0, 0, 0, 0.15);\n",
              "      filter: drop-shadow(0px 1px 2px rgba(0, 0, 0, 0.3));\n",
              "      fill: #FFFFFF;\n",
              "    }\n",
              "  </style>\n",
              "\n",
              "      <script>\n",
              "        const buttonEl =\n",
              "          document.querySelector('#df-87956e09-3d48-423b-953d-b4dcd72304bc button.colab-df-convert');\n",
              "        buttonEl.style.display =\n",
              "          google.colab.kernel.accessAllowed ? 'block' : 'none';\n",
              "\n",
              "        async function convertToInteractive(key) {\n",
              "          const element = document.querySelector('#df-87956e09-3d48-423b-953d-b4dcd72304bc');\n",
              "          const dataTable =\n",
              "            await google.colab.kernel.invokeFunction('convertToInteractive',\n",
              "                                                     [key], {});\n",
              "          if (!dataTable) return;\n",
              "\n",
              "          const docLinkHtml = 'Like what you see? Visit the ' +\n",
              "            '<a target=\"_blank\" href=https://colab.research.google.com/notebooks/data_table.ipynb>data table notebook</a>'\n",
              "            + ' to learn more about interactive tables.';\n",
              "          element.innerHTML = '';\n",
              "          dataTable['output_type'] = 'display_data';\n",
              "          await google.colab.output.renderOutput(dataTable, element);\n",
              "          const docLink = document.createElement('div');\n",
              "          docLink.innerHTML = docLinkHtml;\n",
              "          element.appendChild(docLink);\n",
              "        }\n",
              "      </script>\n",
              "    </div>\n",
              "  </div>\n",
              "  "
            ]
          },
          "metadata": {},
          "execution_count": 31
        }
      ]
    },
    {
      "cell_type": "code",
      "source": [
        "math=data['Math'].to_numpy()\n",
        "read=data['Reading'].to_numpy()\n",
        "write=data['Writing'].to_numpy()"
      ],
      "metadata": {
        "id": "bV_HkzhtG1r5"
      },
      "execution_count": 34,
      "outputs": []
    },
    {
      "cell_type": "code",
      "source": [
        "# Sanity Check\n",
        "if math.shape == read.shape == write.shape:\n",
        "  print(\"Proceed Further\")\n",
        "else:\n",
        "  print(\"Array Conversion Error: Try Again\")"
      ],
      "metadata": {
        "colab": {
          "base_uri": "https://localhost:8080/"
        },
        "id": "cYDbUvGcG4EJ",
        "outputId": "749cd93d-1907-4120-f13f-6a20b1b8f2f6"
      },
      "execution_count": 35,
      "outputs": [
        {
          "output_type": "stream",
          "name": "stdout",
          "text": [
            "Proceed Further\n"
          ]
        }
      ]
    },
    {
      "cell_type": "markdown",
      "source": [
        "### Visualize the Dataset."
      ],
      "metadata": {
        "id": "jnfXVtTho52P"
      }
    },
    {
      "cell_type": "code",
      "source": [
        "from mpl_toolkits.mplot3d import Axes3D\n",
        "# Ploting the scores as scatter plot\n",
        "fig = plt.figure()\n",
        "ax = Axes3D(fig)\n",
        "ax.scatter(math, read, write, color='#ef1234')\n",
        "plt.show()"
      ],
      "metadata": {
        "colab": {
          "base_uri": "https://localhost:8080/",
          "height": 751
        },
        "id": "YUhVrywkok_q",
        "outputId": "7caacb65-dcf3-4f2f-8658-0c4d31932fb2"
      },
      "execution_count": 36,
      "outputs": [
        {
          "output_type": "display_data",
          "data": {
            "text/plain": [
              "<Figure size 720x720 with 1 Axes>"
            ],
            "image/png": "[encoded data removed]"
          },
          "metadata": {
            "needs_background": "light"
          }
        }
      ]
    },
    {
      "cell_type": "markdown",
      "source": [
        "### Store the arrays in the Matrix Form:\n",
        "Implement Following Equations:\n",
        "\n",
        "\\begin{align}\n",
        "        \\mathbf{Y} = \\theta^T X + \\theta_0\n",
        "    \\end{align}\n",
        "In Machine Learning parameters $\\theta$ are also called weights, so from this step onwards we represent $\\theta$ as $\\textbf{W}$.\n",
        "\n",
        "Here-Now:\n",
        "\\begin{align}\n",
        "        \\mathbf{Y} = W^T X + W_0\n",
        "    \\end{align}\n",
        "\n",
        "\\begin{align}\n",
        "        \\mathbf{W} = [\\theta_o, \\theta_1, ...., \\theta_n]^T\n",
        "    \\end{align}\n",
        "\\begin{align}\n",
        "        \\mathbf{X} = [x_o, x_1, ...., x_n]^T\n",
        "    \\end{align}"
      ],
      "metadata": {
        "id": "U8I8hv_WpNlW"
      }
    },
    {
      "cell_type": "code",
      "source": [
        "# initializing Matrices which act as an Container to hold our Data.\n",
        "x0 = np.ones(len(math))\n",
        "X2 = np.array([x0,math,read]).T;\n",
        "W = np.array([0,0,0])\n",
        "Y2 = np.array(write)\n"
      ],
      "metadata": {
        "id": "kQFXQW1lo-rT"
      },
      "execution_count": 45,
      "outputs": []
    },
    {
      "cell_type": "markdown",
      "source": [
        "## Step-2: Implement a Error/Cost Function.\n",
        "\n",
        "We will use the Cost function: Mean Square Error i.e.\n",
        "\\begin{align}\n",
        "        \\mathbf{J(\\theta)}  = \\frac{1}{2m} \\sum_{i=1}^m(y_{pred} - y_i)^2\n",
        "    \\end{align}\n",
        "\n",
        "Further Simplifications:\n",
        "\n",
        "\\begin{align}\n",
        "        \\mathbf{J(\\theta)}  = \\frac{1}{2m} \\sum_{i=1}^m(h_\\theta(x_i) - y_i)^2\n",
        "    \\end{align}\n",
        "Here:\n",
        "\\begin{align}\n",
        "  h_\\theta = \\theta_1*x \n",
        "    \\end{align}\n",
        "\n",
        "Note:\n",
        "In Machine Learning, m: denotes the length of the array (total No of rows in our case).\n",
        "\n"
      ],
      "metadata": {
        "id": "WmR-btDvtKNF"
      }
    },
    {
      "cell_type": "code",
      "source": [
        "#Define the cost function\n",
        "def cost_function(X, Y, W):\n",
        "    \"\"\" Parameters:\n",
        "    This function finds the Mean Square Error.\n",
        "    Input parameters:\n",
        "      X: Feature Matrix\n",
        "      Y: Target Matrix\n",
        "      W: Weight Matrix\n",
        "    Output Parameters:\n",
        "      J: accumulated mean square error.\n",
        "    \"\"\"\n",
        "    m = len(Y) # len of data in your datasets\n",
        "\n",
        "    J = np.sum((X.dot(W) - Y) ** 2)/(2 * m)\n",
        "    return J"
      ],
      "metadata": {
        "id": "t-X-cvAiq5xm"
      },
      "execution_count": 42,
      "outputs": []
    },
    {
      "cell_type": "code",
      "source": [
        "inital_cost = cost_function(X2, Y2, W)\n",
        "print(inital_cost)"
      ],
      "metadata": {
        "colab": {
          "base_uri": "https://localhost:8080/"
        },
        "id": "OVAFyGFnvIQV",
        "outputId": "33e82c9a-d452-424b-9731-b8e6986acb39"
      },
      "execution_count": 46,
      "outputs": [
        {
          "output_type": "stream",
          "name": "stdout",
          "text": [
            "2470.11\n"
          ]
        }
      ]
    },
    {
      "cell_type": "markdown",
      "source": [
        "## Step-3: Optimization Algorithm\n",
        "\n",
        "Our goal in this task is to minimize our error function with each input of examples(input data). \n",
        "One of the most suitable methods to do the same is \n",
        "\\begin{align}\n",
        "$\\color{red}{\\textbf{GRADIENT DESCENT ALGOROTHIM.}}$\n",
        "\\end{align}\n",
        "\n",
        "Implement GDA from Scratch.\n",
        "\n",
        "Function to estimate: \n",
        "  *   $h_\\theta(x) = \\theta^T x$\n",
        "\n",
        "Loss function to minimize:\n",
        "  *   $(h_\\theta(x) - y)^2$\n",
        "\n",
        "Gradient: Decsent update:\n",
        "  *   $\\theta_(j+1)   = \\theta_j - LR(D_\\theta)$\n",
        "  *   $D(\\theta) = 1/m * (\\theta^T * X)$ i.e. Derivative of parameters/weights.\n",
        "\n",
        "\n",
        "\n"
      ],
      "metadata": {
        "id": "1KKgLWzQvvyw"
      }
    },
    {
      "cell_type": "code",
      "source": [
        "def gradient_descent(X, Y, B, alpha, iterations):\n",
        "    cost_history = [0] * iterations\n",
        "    m = len(Y)\n",
        "    \n",
        "    for iteration in range(iterations):\n",
        "        # Hypothesis Values\n",
        "        Y_pred = X.dot(B)\n",
        "        # Difference b/w Hypothesis and Actual Y\n",
        "        loss = Y_pred - Y\n",
        "        # Gradient Calculation\n",
        "        dw = (X.T.dot(loss) ) / (m)\n",
        "        # Changing Values of B using Gradient\n",
        "        W_update = W - alpha * dw\n",
        "        # New Cost Value\n",
        "        cost = cost_function(X, Y, W_update)\n",
        "        cost_history[iteration] = cost\n",
        "        \n",
        "    return W_update, cost_history\n"
      ],
      "metadata": {
        "id": "ZF1sci_UvPWd"
      },
      "execution_count": 47,
      "outputs": []
    },
    {
      "cell_type": "code",
      "source": [
        "# 100000 Iterations\n",
        "alpha = 0.0001 # Learning Rate.\n",
        "new_weights, cost_history = gradient_descent(X2, Y2, W, alpha, 100000)\n",
        "\n",
        "# New Values of\n",
        "print(new_weights)\n",
        "\n",
        "# Final Cost of our Iterations.\n",
        "print(cost_history[-1])"
      ],
      "metadata": {
        "colab": {
          "base_uri": "https://localhost:8080/"
        },
        "id": "bSLx3dJ00Ub-",
        "outputId": "a122fb25-d302-4570-f03e-6b2a4a14d2a9"
      },
      "execution_count": 48,
      "outputs": [
        {
          "output_type": "stream",
          "name": "stdout",
          "text": [
            "[0.0068616 0.4801185 0.5006844]\n",
            "18.076027940915417\n"
          ]
        }
      ]
    },
    {
      "cell_type": "markdown",
      "source": [
        "## Final Step: Evaluation of Model:\n",
        "\n"
      ],
      "metadata": {
        "id": "jP2BEj8d1BrD"
      }
    },
    {
      "cell_type": "code",
      "source": [
        "# Model Evaluation - RMSE\n",
        "def rmse(Y, Y_pred):\n",
        "  \"\"\"\n",
        "  This Function calculates the Root Mean Squres.\n",
        "  Input Arguments:\n",
        "    Y: Array of actual(Target) Dependent Varaibles.\n",
        "    Y_pred: Array of predeicted Dependent Varaibles.\n",
        "  Output Arguments:\n",
        "    rmse: Root Mean Square.\n",
        "  \"\"\"\n",
        "  rmse = np.sqrt(sum((Y-Y_pred)**2)/len(Y))\n",
        "  return rmse\n",
        "\n",
        "# Model Evaluation - R2\n",
        "\n",
        "def r2(Y, Y_pred):\n",
        "  \"\"\"\n",
        "   This Function calculates the R Squared Error.\n",
        "  Input Arguments:\n",
        "    Y: Array of actual(Target) Dependent Varaibles.\n",
        "    Y_pred: Array of predeicted Dependent Varaibles.  \n",
        "  Output Arguments:\n",
        "    rsquared: R Squared Error.\n",
        "    \"\"\"\n",
        "  mean_y = np.mean(Y)\n",
        "  ss_tot = sum((Y - mean_y) ** 2)\n",
        "  ss_res = sum((Y - Y_pred) ** 2)\n",
        "  r2 = 1 - (ss_res / ss_tot)\n",
        "  return r2\n",
        "  "
      ],
      "metadata": {
        "id": "FpD9slr30r_y"
      },
      "execution_count": 49,
      "outputs": []
    },
    {
      "cell_type": "markdown",
      "source": [
        "# Let's Check Model Performance:\n"
      ],
      "metadata": {
        "id": "8sqCKGKn2_N7"
      }
    },
    {
      "cell_type": "code",
      "source": [
        "Y_pred = X2.dot(new_weights)\n",
        "\n",
        "print(rmse(Y2, Y_pred))\n",
        "print(r2(Y2, Y_pred))"
      ],
      "metadata": {
        "colab": {
          "base_uri": "https://localhost:8080/"
        },
        "id": "T2ZMgolG2Bq4",
        "outputId": "747b5ff8-fbdb-4188-c0f7-30fd74386045"
      },
      "execution_count": 50,
      "outputs": [
        {
          "output_type": "stream",
          "name": "stdout",
          "text": [
            "6.01265797146577\n",
            "0.8442155132417348\n"
          ]
        }
      ]
    },
    {
      "cell_type": "markdown",
      "source": [
        "# Section-3: Introduction to SKLEARN.\n",
        "What is scikit-learn or sklearn?\n",
        ">  \n",
        "\n",
        "1.   Scikit-learn is probably the most useful library for machine learning in python.\n",
        "2.   The sklearn library contains a lot of efficient tools for machine learning and statistical modeling\n",
        "\n",
        "> Please note that sklearn is used to build machine learning models. It should not be used for reading the data, manipulating and summarizing it. There are better libraries for that (e.g. NumPy, Pandas etc.)\n"
      ],
      "metadata": {
        "id": "744MDNiG3fbP"
      }
    },
    {
      "cell_type": "markdown",
      "source": [
        "## Build Linear Regression with help of SKLEARN.\n"
      ],
      "metadata": {
        "id": "7fPUvp2U46RX"
      }
    },
    {
      "cell_type": "code",
      "source": [
        "from sklearn.linear_model import LinearRegression\n",
        "from sklearn.metrics import mean_squared_error\n",
        "\n",
        "# X and Y Values\n",
        "X = np.array([math, read]).T\n",
        "Y = np.array(write)\n",
        "\n",
        "# Model Intialization\n",
        "reg = LinearRegression()\n",
        "# Data Fitting\n",
        "reg = reg.fit(X, Y)\n",
        "# Y Prediction\n",
        "Y_pred = reg.predict(X)\n",
        "\n",
        "# Model Evaluation\n",
        "rmse = np.sqrt(mean_squared_error(Y, Y_pred))\n",
        "r2 = reg.score(X, Y)\n",
        "\n",
        "print(rmse)\n",
        "print(r2)"
      ],
      "metadata": {
        "colab": {
          "base_uri": "https://localhost:8080/"
        },
        "id": "qyrN7n_W3FDR",
        "outputId": "3df123a7-6842-434b-a9eb-f8b76fb30f22"
      },
      "execution_count": 51,
      "outputs": [
        {
          "output_type": "stream",
          "name": "stdout",
          "text": [
            "4.572887051836439\n",
            "0.9098901726717316\n"
          ]
        }
      ]
    },
    {
      "cell_type": "markdown",
      "source": [
        "# Practise Tasks:\n",
        "\n",
        "For the following Datasets:\n",
        "\n",
        "Salary.csv: Try implementing Linear Regression with OLS and explain the Result.\n",
        "\n",
        "Insurance.csv: Try implementing Multiple Linear Regression from Scratch: While Doing that also practise following:\n",
        "  1.   Can you Identify Qualitative and Quantitative Varaible.\n",
        "  2.   Drop all the Qualitative Varaible from the dataframe.\n",
        "  3.   If you do not want to drop the qualitative varaible, you can convert them into numeric variable as you did in Assignment-1. {You can also try sklearn label encoder function.}\n",
        "  4.   Practise your Visualization Skills.\n",
        "  \n",
        "\n"
      ],
      "metadata": {
        "id": "1MYP_WI56Ucz"
      }
    },
    {
      "cell_type": "code",
      "source": [],
      "metadata": {
        "id": "W_Pp7kt77gAu"
      },
      "execution_count": null,
      "outputs": []
    }
  ]
}